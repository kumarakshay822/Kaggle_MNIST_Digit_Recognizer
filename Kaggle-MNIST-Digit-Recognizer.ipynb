{
 "cells": [
  {
   "cell_type": "code",
   "execution_count": 1,
   "metadata": {
    "_cell_guid": "b1076dfc-b9ad-4769-8c92-a6c4dae69d19",
    "_uuid": "8f2839f25d086af736a60e9eeb907d3b93b6e0e5",
    "execution": {
     "iopub.execute_input": "2022-09-18T04:28:20.090749Z",
     "iopub.status.busy": "2022-09-18T04:28:20.090383Z",
     "iopub.status.idle": "2022-09-18T04:28:20.098142Z",
     "shell.execute_reply": "2022-09-18T04:28:20.097130Z",
     "shell.execute_reply.started": "2022-09-18T04:28:20.090715Z"
    }
   },
   "outputs": [],
   "source": [
    "import numpy as np \n",
    "import pandas as pd \n",
    "from matplotlib import pyplot as plt\n",
    "\n",
    "import os\n",
    "for dirname, _, filenames in os.walk('/kaggle/input'):\n",
    "    for filename in filenames:\n",
    "        print(os.path.join(dirname, filename))"
   ]
  },
  {
   "cell_type": "code",
   "execution_count": 2,
   "metadata": {
    "execution": {
     "iopub.execute_input": "2022-09-18T04:28:20.099731Z",
     "iopub.status.busy": "2022-09-18T04:28:20.099411Z",
     "iopub.status.idle": "2022-09-18T04:28:23.028364Z",
     "shell.execute_reply": "2022-09-18T04:28:23.027110Z",
     "shell.execute_reply.started": "2022-09-18T04:28:20.099679Z"
    }
   },
   "outputs": [
    {
     "data": {
      "text/html": [
       "<div>\n",
       "<style scoped>\n",
       "    .dataframe tbody tr th:only-of-type {\n",
       "        vertical-align: middle;\n",
       "    }\n",
       "\n",
       "    .dataframe tbody tr th {\n",
       "        vertical-align: top;\n",
       "    }\n",
       "\n",
       "    .dataframe thead th {\n",
       "        text-align: right;\n",
       "    }\n",
       "</style>\n",
       "<table border=\"1\" class=\"dataframe\">\n",
       "  <thead>\n",
       "    <tr style=\"text-align: right;\">\n",
       "      <th></th>\n",
       "      <th>label</th>\n",
       "      <th>pixel0</th>\n",
       "      <th>pixel1</th>\n",
       "      <th>pixel2</th>\n",
       "      <th>pixel3</th>\n",
       "      <th>pixel4</th>\n",
       "      <th>pixel5</th>\n",
       "      <th>pixel6</th>\n",
       "      <th>pixel7</th>\n",
       "      <th>pixel8</th>\n",
       "      <th>...</th>\n",
       "      <th>pixel774</th>\n",
       "      <th>pixel775</th>\n",
       "      <th>pixel776</th>\n",
       "      <th>pixel777</th>\n",
       "      <th>pixel778</th>\n",
       "      <th>pixel779</th>\n",
       "      <th>pixel780</th>\n",
       "      <th>pixel781</th>\n",
       "      <th>pixel782</th>\n",
       "      <th>pixel783</th>\n",
       "    </tr>\n",
       "  </thead>\n",
       "  <tbody>\n",
       "    <tr>\n",
       "      <th>0</th>\n",
       "      <td>1</td>\n",
       "      <td>0</td>\n",
       "      <td>0</td>\n",
       "      <td>0</td>\n",
       "      <td>0</td>\n",
       "      <td>0</td>\n",
       "      <td>0</td>\n",
       "      <td>0</td>\n",
       "      <td>0</td>\n",
       "      <td>0</td>\n",
       "      <td>...</td>\n",
       "      <td>0</td>\n",
       "      <td>0</td>\n",
       "      <td>0</td>\n",
       "      <td>0</td>\n",
       "      <td>0</td>\n",
       "      <td>0</td>\n",
       "      <td>0</td>\n",
       "      <td>0</td>\n",
       "      <td>0</td>\n",
       "      <td>0</td>\n",
       "    </tr>\n",
       "    <tr>\n",
       "      <th>1</th>\n",
       "      <td>0</td>\n",
       "      <td>0</td>\n",
       "      <td>0</td>\n",
       "      <td>0</td>\n",
       "      <td>0</td>\n",
       "      <td>0</td>\n",
       "      <td>0</td>\n",
       "      <td>0</td>\n",
       "      <td>0</td>\n",
       "      <td>0</td>\n",
       "      <td>...</td>\n",
       "      <td>0</td>\n",
       "      <td>0</td>\n",
       "      <td>0</td>\n",
       "      <td>0</td>\n",
       "      <td>0</td>\n",
       "      <td>0</td>\n",
       "      <td>0</td>\n",
       "      <td>0</td>\n",
       "      <td>0</td>\n",
       "      <td>0</td>\n",
       "    </tr>\n",
       "    <tr>\n",
       "      <th>2</th>\n",
       "      <td>1</td>\n",
       "      <td>0</td>\n",
       "      <td>0</td>\n",
       "      <td>0</td>\n",
       "      <td>0</td>\n",
       "      <td>0</td>\n",
       "      <td>0</td>\n",
       "      <td>0</td>\n",
       "      <td>0</td>\n",
       "      <td>0</td>\n",
       "      <td>...</td>\n",
       "      <td>0</td>\n",
       "      <td>0</td>\n",
       "      <td>0</td>\n",
       "      <td>0</td>\n",
       "      <td>0</td>\n",
       "      <td>0</td>\n",
       "      <td>0</td>\n",
       "      <td>0</td>\n",
       "      <td>0</td>\n",
       "      <td>0</td>\n",
       "    </tr>\n",
       "    <tr>\n",
       "      <th>3</th>\n",
       "      <td>4</td>\n",
       "      <td>0</td>\n",
       "      <td>0</td>\n",
       "      <td>0</td>\n",
       "      <td>0</td>\n",
       "      <td>0</td>\n",
       "      <td>0</td>\n",
       "      <td>0</td>\n",
       "      <td>0</td>\n",
       "      <td>0</td>\n",
       "      <td>...</td>\n",
       "      <td>0</td>\n",
       "      <td>0</td>\n",
       "      <td>0</td>\n",
       "      <td>0</td>\n",
       "      <td>0</td>\n",
       "      <td>0</td>\n",
       "      <td>0</td>\n",
       "      <td>0</td>\n",
       "      <td>0</td>\n",
       "      <td>0</td>\n",
       "    </tr>\n",
       "    <tr>\n",
       "      <th>4</th>\n",
       "      <td>0</td>\n",
       "      <td>0</td>\n",
       "      <td>0</td>\n",
       "      <td>0</td>\n",
       "      <td>0</td>\n",
       "      <td>0</td>\n",
       "      <td>0</td>\n",
       "      <td>0</td>\n",
       "      <td>0</td>\n",
       "      <td>0</td>\n",
       "      <td>...</td>\n",
       "      <td>0</td>\n",
       "      <td>0</td>\n",
       "      <td>0</td>\n",
       "      <td>0</td>\n",
       "      <td>0</td>\n",
       "      <td>0</td>\n",
       "      <td>0</td>\n",
       "      <td>0</td>\n",
       "      <td>0</td>\n",
       "      <td>0</td>\n",
       "    </tr>\n",
       "  </tbody>\n",
       "</table>\n",
       "<p>5 rows × 785 columns</p>\n",
       "</div>"
      ],
      "text/plain": [
       "   label  pixel0  pixel1  pixel2  pixel3  pixel4  pixel5  pixel6  pixel7  \\\n",
       "0      1       0       0       0       0       0       0       0       0   \n",
       "1      0       0       0       0       0       0       0       0       0   \n",
       "2      1       0       0       0       0       0       0       0       0   \n",
       "3      4       0       0       0       0       0       0       0       0   \n",
       "4      0       0       0       0       0       0       0       0       0   \n",
       "\n",
       "   pixel8  ...  pixel774  pixel775  pixel776  pixel777  pixel778  pixel779  \\\n",
       "0       0  ...         0         0         0         0         0         0   \n",
       "1       0  ...         0         0         0         0         0         0   \n",
       "2       0  ...         0         0         0         0         0         0   \n",
       "3       0  ...         0         0         0         0         0         0   \n",
       "4       0  ...         0         0         0         0         0         0   \n",
       "\n",
       "   pixel780  pixel781  pixel782  pixel783  \n",
       "0         0         0         0         0  \n",
       "1         0         0         0         0  \n",
       "2         0         0         0         0  \n",
       "3         0         0         0         0  \n",
       "4         0         0         0         0  \n",
       "\n",
       "[5 rows x 785 columns]"
      ]
     },
     "execution_count": 2,
     "metadata": {},
     "output_type": "execute_result"
    }
   ],
   "source": [
    "data = pd.read_csv(\"train.csv\")\n",
    "data.head()"
   ]
  },
  {
   "cell_type": "code",
   "execution_count": 3,
   "metadata": {
    "execution": {
     "iopub.execute_input": "2022-09-18T04:28:23.030656Z",
     "iopub.status.busy": "2022-09-18T04:28:23.030368Z",
     "iopub.status.idle": "2022-09-18T04:28:23.167509Z",
     "shell.execute_reply": "2022-09-18T04:28:23.166364Z",
     "shell.execute_reply.started": "2022-09-18T04:28:23.030626Z"
    }
   },
   "outputs": [
    {
     "data": {
      "text/plain": [
       "(42000, 785)"
      ]
     },
     "execution_count": 3,
     "metadata": {},
     "output_type": "execute_result"
    }
   ],
   "source": [
    "data = np.array(data, dtype = 'int64')\n",
    "data\n",
    "data.shape\n",
    "# print(type(data[0, 0]))"
   ]
  },
  {
   "cell_type": "code",
   "execution_count": 4,
   "metadata": {
    "execution": {
     "iopub.execute_input": "2022-09-18T04:28:23.169398Z",
     "iopub.status.busy": "2022-09-18T04:28:23.169016Z",
     "iopub.status.idle": "2022-09-18T04:28:23.537945Z",
     "shell.execute_reply": "2022-09-18T04:28:23.536813Z",
     "shell.execute_reply.started": "2022-09-18T04:28:23.169312Z"
    }
   },
   "outputs": [],
   "source": [
    "X = data[:, 1:]\n",
    "Y = data[:, 0]\n",
    "X = np.array(X, dtype = np.float64)\n",
    "X *= (1 / 255)"
   ]
  },
  {
   "cell_type": "code",
   "execution_count": 5,
   "metadata": {
    "execution": {
     "iopub.execute_input": "2022-09-18T04:28:23.539668Z",
     "iopub.status.busy": "2022-09-18T04:28:23.539401Z",
     "iopub.status.idle": "2022-09-18T04:28:23.567076Z",
     "shell.execute_reply": "2022-09-18T04:28:23.565913Z",
     "shell.execute_reply.started": "2022-09-18T04:28:23.539639Z"
    }
   },
   "outputs": [],
   "source": [
    "import numpy as np\n",
    "\n",
    "\n",
    "class NeuralNetwork(object):\n",
    "    def __init__(self, topology, epsilon, numLabels):\n",
    "        self.theta = []\n",
    "        self.topology = topology\n",
    "        self.numLabels = numLabels\n",
    "        for layer in range(len(self.topology)):\n",
    "            if layer == 0:\n",
    "                continue\n",
    "            self.theta.append(np.random.rand(self.topology[layer], self.topology[layer - 1] + 1) * 2 * epsilon - epsilon)\n",
    "    \n",
    "    \n",
    "    def gradientDescent(self, iters, alpha, lamda, X, Y):\n",
    "        self.X = X\n",
    "        self.Y = Y\n",
    "        for i in range(iters):\n",
    "            (J, thetaGrad) = self.getCostAndGradient(lamda)\n",
    "            for layer in range(len(self.topology) - 1):\n",
    "                self.theta[layer] -= thetaGrad[layer] * alpha\n",
    "            print(\"Iter \" + str(i) + \": \" + str(J))\n",
    "    \n",
    "    \n",
    "    def predict(self, x):\n",
    "        x = x.reshape((x.shape[0], 1))\n",
    "        x = np.concatenate(([[1]], x))\n",
    "        for layer in range(1, len(self.topology)):\n",
    "            x = np.matmul(self.theta[layer - 1], x)\n",
    "            for i in range(x.shape[0]):\n",
    "                x[i, 0] = self.sigmoid(x[i, 0])\n",
    "            if layer != len(self.topology) - 1:\n",
    "                x = np.concatenate(([[1]], x))\n",
    "        \n",
    "        prediction = -1\n",
    "        predictionSurety = -1\n",
    "        for i in range(self.numLabels):\n",
    "            if x[i, 0] > predictionSurety:\n",
    "                prediction = i\n",
    "                predictionSurety = x[i, 0]\n",
    "        \n",
    "        return prediction\n",
    "    \n",
    "    \n",
    "    def getCostAndGradient(self, lamda):\n",
    "        J = 0\n",
    "        thetaGrad = []\n",
    "        for layer in range(len(self.topology)):\n",
    "            if layer == 0:\n",
    "                continue\n",
    "            thetaGrad.append(np.zeros((self.topology[layer], self.topology[layer - 1] + 1)))\n",
    "        \n",
    "        m = self.X.shape[0]\n",
    "        for example in range(m):\n",
    "            x = self.X[example].copy()\n",
    "            x = x.reshape((x.shape[0], 1))\n",
    "            y = np.zeros(self.numLabels)\n",
    "            y[self.Y[example]] = 1\n",
    "            y = y.reshape((y.shape[0], 1))\n",
    "            a = []\n",
    "            z = []\n",
    "            delta = []\n",
    "            \n",
    "            for layer in range(len(self.topology)):\n",
    "                if layer == 0:\n",
    "                    a.append(np.concatenate(([[1]], x)))\n",
    "                    z.append(np.concatenate(([[1]], x)))\n",
    "                    delta.append(0)\n",
    "                    continue\n",
    "                z.append(np.matmul(self.theta[layer - 1], a[layer - 1]))\n",
    "                a.append(z[layer].copy())\n",
    "                for i in range(self.topology[layer]):\n",
    "                    a[layer][i, 0] = self.sigmoid(a[layer][i, 0])\n",
    "                if layer != len(self.topology) - 1:\n",
    "                    a[layer] = np.concatenate(([[1]], a[layer]))\n",
    "                    z[layer] = np.concatenate(([[1]], z[layer]))\n",
    "                delta.append(0)\n",
    "                \n",
    "            for layer in range(len(self.topology) - 1, 0, -1):\n",
    "                if layer == len(self.topology) - 1:\n",
    "                    delta[layer] = a[layer] - y\n",
    "                    thetaGrad[layer - 1] += np.matmul(delta[layer], a[layer - 1].transpose())\n",
    "                    continue\n",
    "                \n",
    "                sigDerZ = z[layer].copy()\n",
    "                for i in range(self.topology[layer] + 1):\n",
    "                    sigDerZ[i] = self.sigmoidDerivative(sigDerZ[i])\n",
    "                \n",
    "                if layer >= len(self.topology) - 2:\n",
    "                    delta[layer] = np.matmul(self.theta[layer].transpose(), delta[layer + 1]) * sigDerZ\n",
    "                else:\n",
    "                    delta[layer] = np.matmul(self.theta[layer].transpose(), delta[layer + 1][1:, :]) * sigDerZ\n",
    "                \n",
    "                thetaGrad[layer - 1] += np.matmul(delta[layer][1:, :], a[layer - 1].transpose())\n",
    "            \n",
    "            J += np.sum(-(1 - y) * np.log(1 - a[len(self.topology) - 1])) - np.sum(y * np.log(a[len(self.topology) - 1]))\n",
    "        \n",
    "        J /= m\n",
    "        \n",
    "        for layer in range(len(self.topology) - 1):\n",
    "            thetaGrad[layer] *= (1 / m)\n",
    "        \n",
    "        for i in range(len(self.topology) - 1):\n",
    "            for j in range(self.topology[i + 1]):\n",
    "                for k in range(1, self.topology[i]):\n",
    "                    J += (lamda / (2 * m)) * self.theta[i][j, k] ** 2\n",
    "                    thetaGrad[i][j, k] += (lamda / m) * self.theta[i][j, k]\n",
    "        \n",
    "        return (J, thetaGrad)\n",
    "    \n",
    "    \n",
    "    def sigmoid(self, x):\n",
    "        return 1 / (1 + np.exp(-x))\n",
    "    \n",
    "    \n",
    "    def sigmoidDerivative(self, x):\n",
    "        sig = self.sigmoid(x)\n",
    "        return sig * (1 - sig)"
   ]
  },
  {
   "cell_type": "code",
   "execution_count": 6,
   "metadata": {
    "execution": {
     "iopub.execute_input": "2022-09-18T04:28:23.568703Z",
     "iopub.status.busy": "2022-09-18T04:28:23.568397Z",
     "iopub.status.idle": "2022-09-18T04:28:23.584790Z",
     "shell.execute_reply": "2022-09-18T04:28:23.583481Z",
     "shell.execute_reply.started": "2022-09-18T04:28:23.568671Z"
    }
   },
   "outputs": [],
   "source": [
    "epsilon = 0.12\n",
    "numLabels = 10\n",
    "digitRecognizer = NeuralNetwork([784, 28, 10], 0.12, numLabels)"
   ]
  },
  {
   "cell_type": "code",
   "execution_count": 7,
   "metadata": {
    "execution": {
     "iopub.execute_input": "2022-09-18T04:28:23.586371Z",
     "iopub.status.busy": "2022-09-18T04:28:23.586041Z",
     "iopub.status.idle": "2022-09-18T04:31:44.193493Z",
     "shell.execute_reply": "2022-09-18T04:31:44.192427Z",
     "shell.execute_reply.started": "2022-09-18T04:28:23.586339Z"
    }
   },
   "outputs": [
    {
     "name": "stdout",
     "output_type": "stream",
     "text": [
      "Iter 0: 8.158091759767705\n",
      "Iter 1: 4.659419237852557\n",
      "Iter 2: 4.5694873441905886\n",
      "Iter 3: 4.528470075480191\n",
      "Iter 4: 4.490973376401794\n",
      "Iter 5: 4.454912394081093\n",
      "Iter 6: 4.419960188731691\n",
      "Iter 7: 4.385977955983561\n",
      "Iter 8: 4.352869381454631\n",
      "Iter 9: 4.32055304117024\n",
      "Iter 10: 4.288955273632107\n",
      "Iter 11: 4.258007813870942\n",
      "Iter 12: 4.227646709418634\n",
      "Iter 13: 4.197811662583002\n",
      "Iter 14: 4.1684455702480845\n",
      "Iter 15: 4.139494192471256\n",
      "Iter 16: 4.110905926284483\n",
      "Iter 17: 4.082631676569921\n",
      "Iter 18: 4.054624822687102\n",
      "Iter 19: 4.026841282302247\n",
      "Iter 20: 3.9992396729761497\n",
      "Iter 21: 3.971781567102078\n",
      "Iter 22: 3.9444318269433523\n",
      "Iter 23: 3.9171589952683505\n",
      "Iter 24: 3.8899357063186266\n",
      "Iter 25: 3.8627390754045092\n",
      "Iter 26: 3.835551026743878\n",
      "Iter 27: 3.808358529452913\n",
      "Iter 28: 3.78115372847802\n",
      "Iter 29: 3.7539339750604297\n",
      "Iter 30: 3.726701773533032\n",
      "Iter 31: 3.699464663840011\n",
      "Iter 32: 3.6722350526645253\n",
      "Iter 33: 3.6450299949107694\n",
      "Iter 34: 3.617870917192998\n",
      "Iter 35: 3.5907832700579303\n",
      "Iter 36: 3.563796097146285\n",
      "Iter 37: 3.5369415161212805\n",
      "Iter 38: 3.510254115497993\n",
      "Iter 39: 3.4837702809897553\n",
      "Iter 40: 3.457527472810767\n",
      "Iter 41: 3.4315634805198303\n",
      "Iter 42: 3.4059156841367573\n",
      "Iter 43: 3.380620349598189\n",
      "Iter 44: 3.3557119836300138\n",
      "Iter 45: 3.3312227684568763\n",
      "Iter 46: 3.307182091128648\n",
      "Iter 47: 3.2836161762800447\n",
      "Iter 48: 3.260547825374452\n",
      "Iter 49: 3.2379962603335453\n",
      "Iter 0: 3.3068583390235022\n",
      "Iter 1: 3.272779044904422\n",
      "Iter 2: 3.2487607301630472\n",
      "Iter 3: 3.2276408327875514\n",
      "Iter 4: 3.2076491371780604\n",
      "Iter 5: 3.188312415508369\n",
      "Iter 6: 3.1695007886642634\n",
      "Iter 7: 3.151175167461493\n",
      "Iter 8: 3.1333203401920495\n",
      "Iter 9: 3.1159273062156667\n",
      "Iter 10: 3.09898855221168\n",
      "Iter 11: 3.082496744117422\n",
      "Iter 12: 3.0664443425233254\n",
      "Iter 13: 3.0508234836040473\n",
      "Iter 14: 3.0356259470380107\n",
      "Iter 15: 3.020843159077907\n",
      "Iter 16: 3.0064662133739994\n",
      "Iter 17: 2.9924859021565786\n",
      "Iter 18: 2.978892753732446\n",
      "Iter 19: 2.965677073667749\n",
      "Iter 20: 2.95282898779258\n",
      "Iter 21: 2.940338485660541\n",
      "Iter 22: 2.9281954634455887\n",
      "Iter 23: 2.916389765516066\n",
      "Iter 24: 2.9049112241254273\n",
      "Iter 25: 2.893749696808143\n",
      "Iter 26: 2.88289510119355\n",
      "Iter 27: 2.8723374470451835\n",
      "Iter 28: 2.862066865413078\n",
      "Iter 29: 2.852073634850837\n",
      "Iter 30: 2.8423482047035074\n",
      "Iter 31: 2.8328812155149223\n",
      "Iter 32: 2.8236635166397983\n",
      "Iter 33: 2.8146861811731596\n",
      "Iter 34: 2.8059405183321675\n",
      "Iter 35: 2.7974180834423605\n",
      "Iter 36: 2.7891106856905834\n",
      "Iter 37: 2.7810103938141557\n",
      "Iter 38: 2.7731095399009487\n",
      "Iter 39: 2.7654007214716736\n",
      "Iter 40: 2.7578768020171855\n",
      "Iter 41: 2.7505309101549815\n",
      "Iter 42: 2.7433564375659043\n",
      "Iter 43: 2.736347035862333\n",
      "Iter 44: 2.729496612529647\n",
      "Iter 45: 2.722799326076035\n",
      "Iter 46: 2.716249580512806\n",
      "Iter 47: 2.709842019279589\n",
      "Iter 48: 2.7035715187167133\n",
      "Iter 49: 2.6974331811792776\n",
      "Iter 0: 2.7566171640082944\n",
      "Iter 1: 2.7345467770288057\n",
      "Iter 2: 2.7227341721464127\n",
      "Iter 3: 2.713542750808913\n",
      "Iter 4: 2.705231410278808\n",
      "Iter 5: 2.697344409900834\n",
      "Iter 6: 2.6897474572283517\n",
      "Iter 7: 2.682390713771373\n",
      "Iter 8: 2.6752487011274124\n",
      "Iter 9: 2.668304237704308\n",
      "Iter 10: 2.6615437807947337\n",
      "Iter 11: 2.654955889135451\n",
      "Iter 12: 2.648530603161477\n",
      "Iter 13: 2.642259126020986\n",
      "Iter 14: 2.636133620838164\n",
      "Iter 15: 2.630147063476766\n",
      "Iter 16: 2.6242931277118116\n",
      "Iter 17: 2.61856609222371\n",
      "Iter 18: 2.612960763562403\n",
      "Iter 19: 2.607472411349843\n",
      "Iter 20: 2.6020967131284576\n",
      "Iter 21: 2.596829706957754\n",
      "Iter 22: 2.591667750333676\n",
      "Iter 23: 2.58660748433762\n",
      "Iter 24: 2.581645802164438\n",
      "Iter 25: 2.5767798213593376\n",
      "Iter 26: 2.572006859229832\n",
      "Iter 27: 2.567324411001856\n",
      "Iter 28: 2.562730130368639\n",
      "Iter 29: 2.5582218121422575\n",
      "Iter 30: 2.5537973767658912\n",
      "Iter 31: 2.5494548564825017\n",
      "Iter 32: 2.545192382984639\n",
      "Iter 33: 2.541008176395432\n",
      "Iter 34: 2.5369005354482637\n",
      "Iter 35: 2.5328678287495054\n",
      "Iter 36: 2.5289084870202942\n",
      "Iter 37: 2.525020996225224\n",
      "Iter 38: 2.52120389150347\n",
      "Iter 39: 2.5174557518261778\n",
      "Iter 40: 2.513775195310634\n",
      "Iter 41: 2.5101608751271645\n",
      "Iter 42: 2.5066114759398292\n",
      "Iter 43: 2.5031257108277014\n",
      "Iter 44: 2.499702318636143\n",
      "Iter 45: 2.4963400617129468\n",
      "Iter 46: 2.4930377239872086\n",
      "Iter 47: 2.489794109352234\n",
      "Iter 48: 2.4866080403175985\n",
      "Iter 49: 2.483478356897197\n",
      "Iter 0: 2.544858926723731\n",
      "Iter 1: 2.513505738367218\n",
      "Iter 2: 2.5008473565915863\n",
      "Iter 3: 2.4925471936893806\n",
      "Iter 4: 2.4856943304794\n",
      "Iter 5: 2.4794883207115723\n",
      "Iter 6: 2.4736761122690405\n",
      "Iter 7: 2.468162835006143\n",
      "Iter 8: 2.4629034523102042\n",
      "Iter 9: 2.45787048028189\n",
      "Iter 10: 2.4530437433394408\n",
      "Iter 11: 2.4484068455676575\n",
      "Iter 12: 2.443945791988671\n",
      "Iter 13: 2.43964834424617\n",
      "Iter 14: 2.435503653937229\n",
      "Iter 15: 2.4315020179805424\n",
      "Iter 16: 2.427634698262705\n",
      "Iter 17: 2.423893781135308\n",
      "Iter 18: 2.420272064576185\n",
      "Iter 19: 2.4167629658728877\n",
      "Iter 20: 2.413360445109064\n",
      "Iter 21: 2.410058941093462\n",
      "Iter 22: 2.4068533172344666\n",
      "Iter 23: 2.4037388154575132\n",
      "Iter 24: 2.4007110166925183\n",
      "Iter 25: 2.3977658067748995\n",
      "Iter 26: 2.3948993468459125\n",
      "Iter 27: 2.3921080475193564\n",
      "Iter 28: 2.3893885462245157\n",
      "Iter 29: 2.3867376872445605\n",
      "Iter 30: 2.384152504056139\n",
      "Iter 31: 2.3816302036447152\n",
      "Iter 32: 2.3791681525245045\n",
      "Iter 33: 2.376763864235975\n",
      "Iter 34: 2.3744149881299457\n",
      "Iter 35: 2.372119299275496\n",
      "Iter 36: 2.369874689354551\n",
      "Iter 37: 2.367679158424061\n",
      "Iter 38: 2.365530807444493\n",
      "Iter 39: 2.363427831487349\n",
      "Iter 40: 2.361368513544891\n",
      "Iter 41: 2.359351218876707\n",
      "Iter 42: 2.357374389835482\n",
      "Iter 43: 2.3554365411209064\n",
      "Iter 44: 2.3535362554185437\n",
      "Iter 45: 2.351672179384072\n",
      "Iter 46: 2.3498430199389584\n",
      "Iter 47: 2.3480475408471575\n",
      "Iter 48: 2.3462845595461683\n",
      "Iter 49: 2.3445529442086284\n",
      "Iter 0: 2.520318190416167\n",
      "Iter 1: 2.4985242224424136\n",
      "Iter 2: 2.4888998460093945\n",
      "Iter 3: 2.482250332629699\n",
      "Iter 4: 2.476618858606369\n",
      "Iter 5: 2.4714760209253903\n",
      "Iter 6: 2.466656306204298\n",
      "Iter 7: 2.462093416203546\n",
      "Iter 8: 2.4577513766773227\n",
      "Iter 9: 2.4536054953620265\n",
      "Iter 10: 2.4496365222598824\n",
      "Iter 11: 2.4458285296476716\n",
      "Iter 12: 2.4421679496268593\n",
      "Iter 13: 2.438643030737317\n",
      "Iter 14: 2.435243479268021\n",
      "Iter 15: 2.4319601998161797\n",
      "Iter 16: 2.4287850979492944\n",
      "Iter 17: 2.4257109256395166\n",
      "Iter 18: 2.422731157842977\n",
      "Iter 19: 2.4198398925174875\n",
      "Iter 20: 2.4170317686598337\n",
      "Iter 21: 2.414301898413127\n",
      "Iter 22: 2.4116458102974683\n",
      "Iter 23: 2.4090594013298823\n",
      "Iter 24: 2.4065388963174565\n",
      "Iter 25: 2.4040808129922513\n",
      "Iter 26: 2.4016819319437097\n",
      "Iter 27: 2.399339270525355\n",
      "Iter 28: 2.3970500600771563\n",
      "Iter 29: 2.3948117259374424\n",
      "Iter 30: 2.392621869816047\n",
      "Iter 31: 2.39047825418113\n",
      "Iter 32: 2.3883787883733376\n",
      "Iter 33: 2.386321516210447\n",
      "Iter 34: 2.384304604885311\n",
      "Iter 35: 2.3823263349919\n",
      "Iter 36: 2.3803850915390226\n",
      "Iter 37: 2.3784793558340414\n",
      "Iter 38: 2.3766076981338387\n",
      "Iter 39: 2.374768770977676\n",
      "Iter 40: 2.372961303124774\n",
      "Iter 41: 2.371184094032866\n",
      "Iter 42: 2.3694360088199327\n",
      "Iter 43: 2.367715973659717\n",
      "Iter 44: 2.366022971566988\n",
      "Iter 45: 2.364356038534216\n",
      "Iter 46: 2.3627142599852964\n",
      "Iter 47: 2.361096767516242\n",
      "Iter 48: 2.3595027358957106\n",
      "Iter 49: 2.357931380301506\n",
      "Iter 0: 2.429575675221384\n",
      "Iter 1: 2.4169953268954263\n",
      "Iter 2: 2.4095524888188042\n",
      "Iter 3: 2.4034890209820152\n",
      "Iter 4: 2.3980097004535064\n",
      "Iter 5: 2.392898330132934\n",
      "Iter 6: 2.3880757739308787\n",
      "Iter 7: 2.383501372576697\n",
      "Iter 8: 2.379147823564769\n",
      "Iter 9: 2.374993884124061\n",
      "Iter 10: 2.371021867698575\n",
      "Iter 11: 2.3672165782908894\n",
      "Iter 12: 2.3635647415253307\n",
      "Iter 13: 2.360054641733565\n",
      "Iter 14: 2.3566758631411235\n",
      "Iter 15: 2.353419093103017\n",
      "Iter 16: 2.3502759666863278\n",
      "Iter 17: 2.3472389407403713\n",
      "Iter 18: 2.344301189903977\n",
      "Iter 19: 2.3414565194179775\n",
      "Iter 20: 2.338699291113975\n",
      "Iter 21: 2.3360243599449353\n",
      "Iter 22: 2.333427019105437\n",
      "Iter 23: 2.3309029522687523\n",
      "Iter 24: 2.3284481918097497\n",
      "Iter 25: 2.326059082127597\n",
      "Iter 26: 2.3237322473615962\n",
      "Iter 27: 2.321464562923866\n",
      "Iter 28: 2.3192531303699147\n",
      "Iter 29: 2.3170952552014783\n",
      "Iter 30: 2.3149884272520898\n",
      "Iter 31: 2.312930303349957\n",
      "Iter 32: 2.3109186919889586\n",
      "Iter 33: 2.3089515397683114\n",
      "Iter 34: 2.307026919387559\n",
      "Iter 35: 2.305143019006003\n",
      "Iter 36: 2.303298132797091\n",
      "Iter 37: 2.301490652546212\n",
      "Iter 38: 2.2997190601584734\n",
      "Iter 39: 2.297981920958348\n",
      "Iter 40: 2.2962778776781034\n",
      "Iter 41: 2.294605645044974\n",
      "Iter 42: 2.292964004888935\n",
      "Iter 43: 2.29135180170397\n",
      "Iter 44: 2.2897679386053436\n",
      "Iter 45: 2.2882113736327314\n",
      "Iter 46: 2.286681116358424\n",
      "Iter 47: 2.285176224763552\n",
      "Iter 48: 2.2836958023529066\n",
      "Iter 49: 2.2822389954821594\n",
      "Iter 0: 2.3845109107900875\n",
      "Iter 1: 2.3649785846922873\n"
     ]
    },
    {
     "name": "stdout",
     "output_type": "stream",
     "text": [
      "Iter 2: 2.354762256962667\n",
      "Iter 3: 2.3469061459404252\n",
      "Iter 4: 2.340056756092545\n",
      "Iter 5: 2.3338196703215206\n",
      "Iter 6: 2.3280399166979935\n",
      "Iter 7: 2.3226387811935965\n",
      "Iter 8: 2.3175663453905204\n",
      "Iter 9: 2.312785668628071\n",
      "Iter 10: 2.3082669446120843\n",
      "Iter 11: 2.303985044981817\n",
      "Iter 12: 2.2999183029570243\n",
      "Iter 13: 2.2960477989676087\n",
      "Iter 14: 2.292356879712585\n",
      "Iter 15: 2.2888308031955176\n",
      "Iter 16: 2.2854564615161888\n",
      "Iter 17: 2.282222156633491\n",
      "Iter 18: 2.27911741479533\n",
      "Iter 19: 2.2761328305549333\n",
      "Iter 20: 2.2732599342113398\n",
      "Iter 21: 2.2704910782666006\n",
      "Iter 22: 2.2678193396170303\n",
      "Iter 23: 2.265238434945833\n",
      "Iter 24: 2.262742647307397\n",
      "Iter 25: 2.260326762268515\n",
      "Iter 26: 2.2579860122532054\n",
      "Iter 27: 2.255716027953431\n",
      "Iter 28: 2.2535127958409165\n",
      "Iter 29: 2.2513726209547844\n",
      "Iter 30: 2.2492920942575503\n",
      "Iter 31: 2.2472680639498432\n",
      "Iter 32: 2.2452976102183384\n",
      "Iter 33: 2.2433780229643174\n",
      "Iter 34: 2.2415067821211947\n",
      "Iter 35: 2.239681540223885\n",
      "Iter 36: 2.2379001069388935\n",
      "Iter 37: 2.236160435303598\n",
      "Iter 38: 2.2344606094580386\n",
      "Iter 39: 2.232798833681986\n",
      "Iter 40: 2.231173422575534\n",
      "Iter 41: 2.229582792243389\n",
      "Iter 42: 2.228025452362105\n",
      "Iter 43: 2.2264999990253354\n",
      "Iter 44: 2.2250051082765467\n",
      "Iter 45: 2.2235395302497167\n",
      "Iter 46: 2.2221020838503214\n",
      "Iter 47: 2.220691651916092\n",
      "Iter 48: 2.2193071768052457\n",
      "Iter 49: 2.2179476563674276\n",
      "Iter 0: 2.3820261474596167\n",
      "Iter 1: 2.3668153931887277\n",
      "Iter 2: 2.3579670637632115\n",
      "Iter 3: 2.350899346175436\n",
      "Iter 4: 2.3446768494827066\n",
      "Iter 5: 2.3389978527444177\n",
      "Iter 6: 2.3337445839593673\n",
      "Iter 7: 2.328844497078149\n",
      "Iter 8: 2.3242496179959464\n",
      "Iter 9: 2.3199231947594345\n",
      "Iter 10: 2.315836002610827\n",
      "Iter 11: 2.3119638538858034\n",
      "Iter 12: 2.308286268293908\n",
      "Iter 13: 2.3047856568852487\n",
      "Iter 14: 2.3014467269856946\n",
      "Iter 15: 2.298256084066557\n",
      "Iter 16: 2.295201910376956\n",
      "Iter 17: 2.292273725144869\n",
      "Iter 18: 2.2894621856909483\n",
      "Iter 19: 2.2867589286801593\n",
      "Iter 20: 2.284156437101408\n",
      "Iter 21: 2.281647930228573\n",
      "Iter 22: 2.2792272706175094\n",
      "Iter 23: 2.2768888855952945\n",
      "Iter 24: 2.274627700301856\n",
      "Iter 25: 2.2724390804067647\n",
      "Iter 26: 2.2703187828151346\n",
      "Iter 27: 2.2682629130705667\n",
      "Iter 28: 2.266267888391208\n",
      "Iter 29: 2.2643304054615743\n",
      "Iter 30: 2.262447412271518\n",
      "Iter 31: 2.260616083401459\n",
      "Iter 32: 2.258833798265646\n",
      "Iter 33: 2.2570981218962274\n",
      "Iter 34: 2.2554067879232176\n",
      "Iter 35: 2.253757683455974\n",
      "Iter 36: 2.252148835618032\n",
      "Iter 37: 2.250578399523892\n",
      "Iter 38: 2.249044647517022\n",
      "Iter 39: 2.2475459595143614\n",
      "Iter 40: 2.2460808143237383\n",
      "Iter 41: 2.2446477818202157\n",
      "Iter 42: 2.243245515880716\n",
      "Iter 43: 2.241872747991775\n",
      "Iter 44: 2.240528281454538\n",
      "Iter 45: 2.2392109861217167\n",
      "Iter 46: 2.2379197936093185\n",
      "Iter 47: 2.236653692932377\n",
      "Iter 48: 2.2354117265210043\n",
      "Iter 49: 2.2341929865775945\n",
      "Iter 0: 2.4105669699217525\n",
      "Iter 1: 2.3953009706575514\n",
      "Iter 2: 2.386664301920728\n",
      "Iter 3: 2.380136560938068\n",
      "Iter 4: 2.3744122522982334\n",
      "Iter 5: 2.3691618466468216\n",
      "Iter 6: 2.364258404330406\n",
      "Iter 7: 2.35964195950847\n",
      "Iter 8: 2.355275344056809\n",
      "Iter 9: 2.3511316150846846\n",
      "Iter 10: 2.3471895668033564\n",
      "Iter 11: 2.3434316270736884\n",
      "Iter 12: 2.339842875415642\n",
      "Iter 13: 2.3364103826500804\n",
      "Iter 14: 2.333122810266059\n",
      "Iter 15: 2.329970102124462\n",
      "Iter 16: 2.3269432685883897\n",
      "Iter 17: 2.324034213937621\n",
      "Iter 18: 2.321235606135806\n",
      "Iter 19: 2.3185407705034144\n",
      "Iter 20: 2.3159436055239047\n",
      "Iter 21: 2.313438512688553\n",
      "Iter 22: 2.311020338907373\n",
      "Iter 23: 2.30868432756281\n",
      "Iter 24: 2.306426077193773\n",
      "Iter 25: 2.304241505766465\n",
      "Iter 26: 2.302126819867532\n",
      "Iter 27: 2.300078487688316\n",
      "Iter 28: 2.2980932153610247\n",
      "Iter 29: 2.296167925983208\n",
      "Iter 30: 2.294299741031579\n",
      "Iter 31: 2.292485963753269\n",
      "Iter 32: 2.2907240643231064\n",
      "Iter 33: 2.289011666497713\n",
      "Iter 34: 2.287346535611237\n",
      "Iter 35: 2.2857265677282137\n",
      "Iter 36: 2.284149779836733\n",
      "Iter 37: 2.2826143009498683\n",
      "Iter 38: 2.281118364025944\n",
      "Iter 39: 2.2796602986102776\n",
      "Iter 40: 2.2782385241281653\n",
      "Iter 41: 2.2768515437563286\n",
      "Iter 42: 2.2754979388172005\n",
      "Iter 43: 2.274176363640294\n",
      "Iter 44: 2.2728855408461874\n",
      "Iter 45: 2.271624257010464\n",
      "Iter 46: 2.270391358671825\n",
      "Iter 47: 2.2691857486506994\n",
      "Iter 48: 2.2680063826499506\n",
      "Iter 49: 2.266852266111505\n",
      "Iter 0: 2.325146184832378\n",
      "Iter 1: 2.300049550199568\n",
      "Iter 2: 2.2881351102202565\n",
      "Iter 3: 2.2787979892881913\n",
      "Iter 4: 2.270959494801201\n",
      "Iter 5: 2.2638727015551927\n",
      "Iter 6: 2.2575227463723277\n",
      "Iter 7: 2.2516148291934566\n",
      "Iter 8: 2.2461935670242803\n",
      "Iter 9: 2.2410845384247824\n",
      "Iter 10: 2.2363336674465515\n",
      "Iter 11: 2.231822019088289\n",
      "Iter 12: 2.227590945810185\n",
      "Iter 13: 2.2235520866059737\n",
      "Iter 14: 2.2197426397101516\n",
      "Iter 15: 2.216092298955298\n",
      "Iter 16: 2.212635539964965\n",
      "Iter 17: 2.2093129104046962\n",
      "Iter 18: 2.2061577406485284\n",
      "Iter 19: 2.2031168177856646\n",
      "Iter 20: 2.2002239264036993\n",
      "Iter 21: 2.197428752310234\n",
      "Iter 22: 2.194767236813312\n",
      "Iter 23: 2.192189154265653\n",
      "Iter 24: 2.1897345895801887\n",
      "Iter 25: 2.1873506076162275\n",
      "Iter 26: 2.1850839862951412\n",
      "Iter 27: 2.1828758159602786\n",
      "Iter 28: 2.1807831009445096\n",
      "Iter 29: 2.1787366418799965\n",
      "Iter 30: 2.1768088490609188\n",
      "Iter 31: 2.17491401527281\n",
      "Iter 32: 2.1731478569709712\n",
      "Iter 33: 2.1713986681383104\n",
      "Iter 34: 2.16979787174283\n",
      "Iter 35: 2.1681927030580757\n",
      "Iter 36: 2.1667701646311346\n",
      "Iter 37: 2.165311896425165\n",
      "Iter 38: 2.16409277452069\n",
      "Iter 39: 2.1627882083017758\n",
      "Iter 40: 2.1618137437229463\n",
      "Iter 41: 2.16067089999784\n",
      "Iter 42: 2.1600018401969194\n",
      "Iter 43: 2.159022564006316\n",
      "Iter 44: 2.1587391615513085\n",
      "Iter 45: 2.15790341119845\n",
      "Iter 46: 2.1580961375701717\n",
      "Iter 47: 2.1573358474227198\n",
      "Iter 48: 2.158079493974857\n",
      "Iter 49: 2.157248989015389\n"
     ]
    }
   ],
   "source": [
    "lamda = 10\n",
    "alpha = 0.5\n",
    "for i in range(0, 4000, 400):\n",
    "    X_train = X[i:i + 400]\n",
    "    Y_train = Y[i:i + 400]\n",
    "    digitRecognizer.gradientDescent(50, alpha, lamda, X_train, Y_train)"
   ]
  },
  {
   "cell_type": "code",
   "execution_count": 8,
   "metadata": {
    "execution": {
     "iopub.execute_input": "2022-09-18T04:31:44.196550Z",
     "iopub.status.busy": "2022-09-18T04:31:44.196100Z",
     "iopub.status.idle": "2022-09-18T04:31:44.202912Z",
     "shell.execute_reply": "2022-09-18T04:31:44.201347Z",
     "shell.execute_reply.started": "2022-09-18T04:31:44.196504Z"
    }
   },
   "outputs": [],
   "source": [
    "def checkAccuracy(l, r):\n",
    "    correct = 0\n",
    "    total = 0\n",
    "    for i in range(l, r):\n",
    "        if digitRecognizer.predict(X[i]) == Y[i]:\n",
    "            correct += 1\n",
    "        total += 1\n",
    "    print((correct / total) * 100)"
   ]
  },
  {
   "cell_type": "code",
   "execution_count": 9,
   "metadata": {
    "execution": {
     "iopub.execute_input": "2022-09-18T04:31:44.205315Z",
     "iopub.status.busy": "2022-09-18T04:31:44.204982Z",
     "iopub.status.idle": "2022-09-18T04:31:44.214609Z",
     "shell.execute_reply": "2022-09-18T04:31:44.213693Z",
     "shell.execute_reply.started": "2022-09-18T04:31:44.205284Z"
    }
   },
   "outputs": [],
   "source": [
    "def test(i):\n",
    "    print(digitRecognizer.predict(X[i]))\n",
    "    print(Y[i])\n",
    "    currentImage = X[i].copy()\n",
    "    currentImage = currentImage.reshape((28, 28)) * 255\n",
    "    currentImage = np.array(currentImage, dtype = 'float64')\n",
    "    plt.gray()\n",
    "    plt.imshow(currentImage, interpolation=\"nearest\")\n",
    "    plt.show()"
   ]
  },
  {
   "cell_type": "code",
   "execution_count": 10,
   "metadata": {
    "execution": {
     "iopub.execute_input": "2022-09-18T04:31:44.216939Z",
     "iopub.status.busy": "2022-09-18T04:31:44.216263Z",
     "iopub.status.idle": "2022-09-18T04:31:44.229599Z",
     "shell.execute_reply": "2022-09-18T04:31:44.228561Z",
     "shell.execute_reply.started": "2022-09-18T04:31:44.216892Z"
    }
   },
   "outputs": [],
   "source": [
    "def seeResults():\n",
    "    for i in range(501, 42000):\n",
    "        test(i)\n",
    "        input(\"Enter to continue.\")"
   ]
  },
  {
   "cell_type": "code",
   "execution_count": 11,
   "metadata": {
    "execution": {
     "iopub.execute_input": "2022-09-18T04:31:44.231462Z",
     "iopub.status.busy": "2022-09-18T04:31:44.231064Z",
     "iopub.status.idle": "2022-09-18T04:31:56.272002Z",
     "shell.execute_reply": "2022-09-18T04:31:56.270901Z",
     "shell.execute_reply.started": "2022-09-18T04:31:44.231428Z"
    }
   },
   "outputs": [
    {
     "name": "stdout",
     "output_type": "stream",
     "text": [
      "80.25952380952381\n"
     ]
    }
   ],
   "source": [
    "checkAccuracy(0, 42000)"
   ]
  },
  {
   "cell_type": "code",
   "execution_count": null,
   "metadata": {
    "execution": {
     "iopub.execute_input": "2022-09-18T04:31:56.273808Z",
     "iopub.status.busy": "2022-09-18T04:31:56.273497Z"
    }
   },
   "outputs": [
    {
     "name": "stdout",
     "output_type": "stream",
     "text": [
      "4\n",
      "9\n"
     ]
    },
    {
     "data": {
      "image/png": "[encoded data removed]",
      "text/plain": [
       "<Figure size 640x480 with 1 Axes>"
      ]
     },
     "metadata": {},
     "output_type": "display_data"
    },
    {
     "name": "stdout",
     "output_type": "stream",
     "text": [
      "Enter to continue.\n",
      "0\n",
      "0\n"
     ]
    },
    {
     "data": {
      "image/png": "[encoded data removed]",
      "text/plain": [
       "<Figure size 640x480 with 1 Axes>"
      ]
     },
     "metadata": {},
     "output_type": "display_data"
    },
    {
     "name": "stdout",
     "output_type": "stream",
     "text": [
      "Enter to continue.\n",
      "0\n",
      "5\n"
     ]
    },
    {
     "data": {
      "image/png": "[encoded data removed]",
      "text/plain": [
       "<Figure size 640x480 with 1 Axes>"
      ]
     },
     "metadata": {},
     "output_type": "display_data"
    },
    {
     "name": "stdout",
     "output_type": "stream",
     "text": [
      "Enter to continue.\n",
      "7\n",
      "7\n"
     ]
    },
    {
     "data": {
      "image/png": "[encoded data removed]",
      "text/plain": [
       "<Figure size 640x480 with 1 Axes>"
      ]
     },
     "metadata": {},
     "output_type": "display_data"
    },
    {
     "name": "stdout",
     "output_type": "stream",
     "text": [
      "Enter to continue.\n",
      "6\n",
      "6\n"
     ]
    },
    {
     "data": {
      "image/png": "[encoded data removed]",
      "text/plain": [
       "<Figure size 640x480 with 1 Axes>"
      ]
     },
     "metadata": {},
     "output_type": "display_data"
    },
    {
     "name": "stdout",
     "output_type": "stream",
     "text": [
      "Enter to continue.\n",
      "8\n",
      "8\n"
     ]
    },
    {
     "data": {
      "image/png": "[encoded data removed]",
      "text/plain": [
       "<Figure size 640x480 with 1 Axes>"
      ]
     },
     "metadata": {},
     "output_type": "display_data"
    },
    {
     "name": "stdout",
     "output_type": "stream",
     "text": [
      "Enter to continue.\n",
      "2\n",
      "2\n"
     ]
    },
    {
     "data": {
      "image/png": "[encoded data removed]",
      "text/plain": [
       "<Figure size 640x480 with 1 Axes>"
      ]
     },
     "metadata": {},
     "output_type": "display_data"
    },
    {
     "name": "stdout",
     "output_type": "stream",
     "text": [
      "Enter to continue.\n",
      "0\n",
      "0\n"
     ]
    },
    {
     "data": {
      "image/png": "[encoded data removed]",
      "text/plain": [
       "<Figure size 640x480 with 1 Axes>"
      ]
     },
     "metadata": {},
     "output_type": "display_data"
    },
    {
     "name": "stdout",
     "output_type": "stream",
     "text": [
      "Enter to continue.\n",
      "7\n",
      "7\n"
     ]
    },
    {
     "data": {
      "image/png": "[encoded data removed]",
      "text/plain": [
       "<Figure size 640x480 with 1 Axes>"
      ]
     },
     "metadata": {},
     "output_type": "display_data"
    },
    {
     "name": "stdout",
     "output_type": "stream",
     "text": [
      "Enter to continue.\n",
      "3\n",
      "3\n"
     ]
    },
    {
     "data": {
      "image/png": "[encoded data removed]",
      "text/plain": [
       "<Figure size 640x480 with 1 Axes>"
      ]
     },
     "metadata": {},
     "output_type": "display_data"
    },
    {
     "name": "stdout",
     "output_type": "stream",
     "text": [
      "Enter to continue.\n",
      "8\n",
      "5\n"
     ]
    },
    {
     "data": {
      "image/png": "[encoded data removed]",
      "text/plain": [
       "<Figure size 640x480 with 1 Axes>"
      ]
     },
     "metadata": {},
     "output_type": "display_data"
    },
    {
     "name": "stdout",
     "output_type": "stream",
     "text": [
      "Enter to continue.\n",
      "8\n",
      "8\n"
     ]
    },
    {
     "data": {
      "image/png": "[encoded data removed]",
      "text/plain": [
       "<Figure size 640x480 with 1 Axes>"
      ]
     },
     "metadata": {},
     "output_type": "display_data"
    },
    {
     "name": "stdout",
     "output_type": "stream",
     "text": [
      "Enter to continue.\n",
      "2\n",
      "2\n"
     ]
    },
    {
     "data": {
      "image/png": "[encoded data removed]",
      "text/plain": [
       "<Figure size 640x480 with 1 Axes>"
      ]
     },
     "metadata": {},
     "output_type": "display_data"
    },
    {
     "name": "stdout",
     "output_type": "stream",
     "text": [
      "Enter to continue.\n",
      "8\n",
      "8\n"
     ]
    },
    {
     "data": {
      "image/png": "[encoded data removed]",
      "text/plain": [
       "<Figure size 640x480 with 1 Axes>"
      ]
     },
     "metadata": {},
     "output_type": "display_data"
    },
    {
     "name": "stdout",
     "output_type": "stream",
     "text": [
      "Enter to continue.\n",
      "2\n",
      "2\n"
     ]
    },
    {
     "data": {
      "image/png": "[encoded data removed]",
      "text/plain": [
       "<Figure size 640x480 with 1 Axes>"
      ]
     },
     "metadata": {},
     "output_type": "display_data"
    },
    {
     "name": "stdout",
     "output_type": "stream",
     "text": [
      "Enter to continue.\n",
      "1\n",
      "4\n"
     ]
    },
    {
     "data": {
      "image/png": "[encoded data removed]",
      "text/plain": [
       "<Figure size 640x480 with 1 Axes>"
      ]
     },
     "metadata": {},
     "output_type": "display_data"
    },
    {
     "name": "stdout",
     "output_type": "stream",
     "text": [
      "Enter to continue.\n",
      "6\n",
      "8\n"
     ]
    },
    {
     "data": {
      "image/png": "[encoded data removed]",
      "text/plain": [
       "<Figure size 640x480 with 1 Axes>"
      ]
     },
     "metadata": {},
     "output_type": "display_data"
    },
    {
     "name": "stdout",
     "output_type": "stream",
     "text": [
      "Enter to continue.\n",
      "5\n",
      "5\n"
     ]
    },
    {
     "data": {
      "image/png": "[encoded data removed]",
      "text/plain": [
       "<Figure size 640x480 with 1 Axes>"
      ]
     },
     "metadata": {},
     "output_type": "display_data"
    },
    {
     "name": "stdout",
     "output_type": "stream",
     "text": [
      "Enter to continue.\n",
      "8\n",
      "8\n"
     ]
    },
    {
     "data": {
      "image/png": "[encoded data removed]",
      "text/plain": [
       "<Figure size 640x480 with 1 Axes>"
      ]
     },
     "metadata": {},
     "output_type": "display_data"
    },
    {
     "name": "stdout",
     "output_type": "stream",
     "text": [
      "Enter to continue.\n",
      "4\n",
      "9\n"
     ]
    },
    {
     "data": {
      "image/png": "[encoded data removed]",
      "text/plain": [
       "<Figure size 640x480 with 1 Axes>"
      ]
     },
     "metadata": {},
     "output_type": "display_data"
    },
    {
     "name": "stdout",
     "output_type": "stream",
     "text": [
      "Enter to continue.\n",
      "7\n",
      "7\n"
     ]
    },
    {
     "data": {
      "image/png": "[encoded data removed]",
      "text/plain": [
       "<Figure size 640x480 with 1 Axes>"
      ]
     },
     "metadata": {},
     "output_type": "display_data"
    },
    {
     "name": "stdout",
     "output_type": "stream",
     "text": [
      "Enter to continue.\n",
      "1\n",
      "1\n"
     ]
    },
    {
     "data": {
      "image/png": "[encoded data removed]",
      "text/plain": [
       "<Figure size 640x480 with 1 Axes>"
      ]
     },
     "metadata": {},
     "output_type": "display_data"
    },
    {
     "name": "stdout",
     "output_type": "stream",
     "text": [
      "Enter to continue.\n",
      "2\n",
      "2\n"
     ]
    },
    {
     "data": {
      "image/png": "[encoded data removed]",
      "text/plain": [
       "<Figure size 640x480 with 1 Axes>"
      ]
     },
     "metadata": {},
     "output_type": "display_data"
    },
    {
     "name": "stdout",
     "output_type": "stream",
     "text": [
      "Enter to continue.\n",
      "4\n",
      "4\n"
     ]
    },
    {
     "data": {
      "image/png": "[encoded data removed]",
      "text/plain": [
       "<Figure size 640x480 with 1 Axes>"
      ]
     },
     "metadata": {},
     "output_type": "display_data"
    },
    {
     "name": "stdout",
     "output_type": "stream",
     "text": [
      "Enter to continue.\n",
      "0\n",
      "5\n"
     ]
    },
    {
     "data": {
      "image/png": "[encoded data removed]",
      "text/plain": [
       "<Figure size 640x480 with 1 Axes>"
      ]
     },
     "metadata": {},
     "output_type": "display_data"
    },
    {
     "name": "stdout",
     "output_type": "stream",
     "text": [
      "Enter to continue.\n",
      "9\n",
      "5\n"
     ]
    },
    {
     "data": {
      "image/png": "[encoded data removed]",
      "text/plain": [
       "<Figure size 640x480 with 1 Axes>"
      ]
     },
     "metadata": {},
     "output_type": "display_data"
    },
    {
     "name": "stdout",
     "output_type": "stream",
     "text": [
      "Enter to continue.6\n",
      "1\n",
      "1\n"
     ]
    },
    {
     "data": {
      "image/png": "[encoded data removed]",
      "text/plain": [
       "<Figure size 640x480 with 1 Axes>"
      ]
     },
     "metadata": {},
     "output_type": "display_data"
    }
   ],
   "source": [
    "seeResults()"
   ]
  },
  {
   "cell_type": "code",
   "execution_count": null,
   "metadata": {},
   "outputs": [],
   "source": []
  }
 ],
 "metadata": {
  "kernelspec": {
   "display_name": "Python 3 (ipykernel)",
   "language": "python",
   "name": "python3"
  },
  "language_info": {
   "codemirror_mode": {
    "name": "ipython",
    "version": 3
   },
   "file_extension": ".py",
   "mimetype": "text/x-python",
   "name": "python",
   "nbconvert_exporter": "python",
   "pygments_lexer": "ipython3",
   "version": "3.11.4"
  }
 },
 "nbformat": 4,
 "nbformat_minor": 4
}
